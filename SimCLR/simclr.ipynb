{
  "nbformat": 4,
  "nbformat_minor": 0,
  "metadata": {
    "colab": {
      "provenance": [],
      "gpuType": "T4"
    },
    "kernelspec": {
      "name": "python3",
      "display_name": "Python 3"
    },
    "language_info": {
      "name": "python"
    },
    "accelerator": "GPU"
  },
  "cells": [
    {
      "cell_type": "code",
      "execution_count": 1,
      "metadata": {
        "colab": {
          "base_uri": "https://localhost:8080/"
        },
        "id": "HRquAWEr0keJ",
        "outputId": "96a727b9-bf3d-420c-a174-cbf38415786a"
      },
      "outputs": [
        {
          "output_type": "stream",
          "name": "stdout",
          "text": [
            "Cloning into 'SimCLR'...\n",
            "remote: Enumerating objects: 116, done.\u001b[K\n",
            "remote: Counting objects: 100% (116/116), done.\u001b[K\n",
            "remote: Compressing objects: 100% (79/79), done.\u001b[K\n",
            "remote: Total 116 (delta 49), reused 87 (delta 27), pack-reused 0 (from 0)\u001b[K\n",
            "Receiving objects: 100% (116/116), 29.58 KiB | 3.70 MiB/s, done.\n",
            "Resolving deltas: 100% (49/49), done.\n"
          ]
        }
      ],
      "source": [
        "!git clone https://github.com/denn-s/SimCLR"
      ]
    },
    {
      "cell_type": "code",
      "source": [
        "!pip install -r SimCLR/requirements.txt"
      ],
      "metadata": {
        "colab": {
          "base_uri": "https://localhost:8080/"
        },
        "id": "us19OuYX1o9o",
        "outputId": "4222995e-a887-4e8d-81c3-2b23b1f277bc"
      },
      "execution_count": 18,
      "outputs": [
        {
          "output_type": "stream",
          "name": "stdout",
          "text": [
            "Requirement already satisfied: numpy in /usr/local/lib/python3.11/dist-packages (from -r SimCLR/requirements.txt (line 1)) (2.0.2)\n",
            "Requirement already satisfied: pandas in /usr/local/lib/python3.11/dist-packages (from -r SimCLR/requirements.txt (line 2)) (2.2.2)\n",
            "Requirement already satisfied: scikit-image in /usr/local/lib/python3.11/dist-packages (from -r SimCLR/requirements.txt (line 3)) (0.25.2)\n",
            "Requirement already satisfied: torch in /usr/local/lib/python3.11/dist-packages (from -r SimCLR/requirements.txt (line 4)) (2.6.0+cu124)\n",
            "Requirement already satisfied: torchvision in /usr/local/lib/python3.11/dist-packages (from -r SimCLR/requirements.txt (line 5)) (0.21.0+cu124)\n",
            "Requirement already satisfied: tensorboard in /usr/local/lib/python3.11/dist-packages (from -r SimCLR/requirements.txt (line 6)) (2.18.0)\n",
            "Collecting onnx (from -r SimCLR/requirements.txt (line 7))\n",
            "  Downloading onnx-1.17.0-cp311-cp311-manylinux_2_17_x86_64.manylinux2014_x86_64.whl.metadata (16 kB)\n",
            "Collecting onnxruntime (from -r SimCLR/requirements.txt (line 8))\n",
            "  Downloading onnxruntime-1.21.0-cp311-cp311-manylinux_2_27_x86_64.manylinux_2_28_x86_64.whl.metadata (4.5 kB)\n",
            "Requirement already satisfied: tqdm in /usr/local/lib/python3.11/dist-packages (from -r SimCLR/requirements.txt (line 9)) (4.67.1)\n",
            "Requirement already satisfied: PyYAML in /usr/local/lib/python3.11/dist-packages (from -r SimCLR/requirements.txt (line 10)) (6.0.2)\n",
            "Requirement already satisfied: opencv-python in /usr/local/lib/python3.11/dist-packages (from -r SimCLR/requirements.txt (line 11)) (4.11.0.86)\n",
            "Requirement already satisfied: python-dateutil>=2.8.2 in /usr/local/lib/python3.11/dist-packages (from pandas->-r SimCLR/requirements.txt (line 2)) (2.8.2)\n",
            "Requirement already satisfied: pytz>=2020.1 in /usr/local/lib/python3.11/dist-packages (from pandas->-r SimCLR/requirements.txt (line 2)) (2025.1)\n",
            "Requirement already satisfied: tzdata>=2022.7 in /usr/local/lib/python3.11/dist-packages (from pandas->-r SimCLR/requirements.txt (line 2)) (2025.1)\n",
            "Requirement already satisfied: scipy>=1.11.4 in /usr/local/lib/python3.11/dist-packages (from scikit-image->-r SimCLR/requirements.txt (line 3)) (1.14.1)\n",
            "Requirement already satisfied: networkx>=3.0 in /usr/local/lib/python3.11/dist-packages (from scikit-image->-r SimCLR/requirements.txt (line 3)) (3.4.2)\n",
            "Requirement already satisfied: pillow>=10.1 in /usr/local/lib/python3.11/dist-packages (from scikit-image->-r SimCLR/requirements.txt (line 3)) (11.1.0)\n",
            "Requirement already satisfied: imageio!=2.35.0,>=2.33 in /usr/local/lib/python3.11/dist-packages (from scikit-image->-r SimCLR/requirements.txt (line 3)) (2.37.0)\n",
            "Requirement already satisfied: tifffile>=2022.8.12 in /usr/local/lib/python3.11/dist-packages (from scikit-image->-r SimCLR/requirements.txt (line 3)) (2025.3.13)\n",
            "Requirement already satisfied: packaging>=21 in /usr/local/lib/python3.11/dist-packages (from scikit-image->-r SimCLR/requirements.txt (line 3)) (24.2)\n",
            "Requirement already satisfied: lazy-loader>=0.4 in /usr/local/lib/python3.11/dist-packages (from scikit-image->-r SimCLR/requirements.txt (line 3)) (0.4)\n",
            "Requirement already satisfied: filelock in /usr/local/lib/python3.11/dist-packages (from torch->-r SimCLR/requirements.txt (line 4)) (3.18.0)\n",
            "Requirement already satisfied: typing-extensions>=4.10.0 in /usr/local/lib/python3.11/dist-packages (from torch->-r SimCLR/requirements.txt (line 4)) (4.12.2)\n",
            "Requirement already satisfied: jinja2 in /usr/local/lib/python3.11/dist-packages (from torch->-r SimCLR/requirements.txt (line 4)) (3.1.6)\n",
            "Requirement already satisfied: fsspec in /usr/local/lib/python3.11/dist-packages (from torch->-r SimCLR/requirements.txt (line 4)) (2025.3.0)\n",
            "Collecting nvidia-cuda-nvrtc-cu12==12.4.127 (from torch->-r SimCLR/requirements.txt (line 4))\n",
            "  Downloading nvidia_cuda_nvrtc_cu12-12.4.127-py3-none-manylinux2014_x86_64.whl.metadata (1.5 kB)\n",
            "Collecting nvidia-cuda-runtime-cu12==12.4.127 (from torch->-r SimCLR/requirements.txt (line 4))\n",
            "  Downloading nvidia_cuda_runtime_cu12-12.4.127-py3-none-manylinux2014_x86_64.whl.metadata (1.5 kB)\n",
            "Collecting nvidia-cuda-cupti-cu12==12.4.127 (from torch->-r SimCLR/requirements.txt (line 4))\n",
            "  Downloading nvidia_cuda_cupti_cu12-12.4.127-py3-none-manylinux2014_x86_64.whl.metadata (1.6 kB)\n",
            "Collecting nvidia-cudnn-cu12==9.1.0.70 (from torch->-r SimCLR/requirements.txt (line 4))\n",
            "  Downloading nvidia_cudnn_cu12-9.1.0.70-py3-none-manylinux2014_x86_64.whl.metadata (1.6 kB)\n",
            "Collecting nvidia-cublas-cu12==12.4.5.8 (from torch->-r SimCLR/requirements.txt (line 4))\n",
            "  Downloading nvidia_cublas_cu12-12.4.5.8-py3-none-manylinux2014_x86_64.whl.metadata (1.5 kB)\n",
            "Collecting nvidia-cufft-cu12==11.2.1.3 (from torch->-r SimCLR/requirements.txt (line 4))\n",
            "  Downloading nvidia_cufft_cu12-11.2.1.3-py3-none-manylinux2014_x86_64.whl.metadata (1.5 kB)\n",
            "Collecting nvidia-curand-cu12==10.3.5.147 (from torch->-r SimCLR/requirements.txt (line 4))\n",
            "  Downloading nvidia_curand_cu12-10.3.5.147-py3-none-manylinux2014_x86_64.whl.metadata (1.5 kB)\n",
            "Collecting nvidia-cusolver-cu12==11.6.1.9 (from torch->-r SimCLR/requirements.txt (line 4))\n",
            "  Downloading nvidia_cusolver_cu12-11.6.1.9-py3-none-manylinux2014_x86_64.whl.metadata (1.6 kB)\n",
            "Collecting nvidia-cusparse-cu12==12.3.1.170 (from torch->-r SimCLR/requirements.txt (line 4))\n",
            "  Downloading nvidia_cusparse_cu12-12.3.1.170-py3-none-manylinux2014_x86_64.whl.metadata (1.6 kB)\n",
            "Requirement already satisfied: nvidia-cusparselt-cu12==0.6.2 in /usr/local/lib/python3.11/dist-packages (from torch->-r SimCLR/requirements.txt (line 4)) (0.6.2)\n",
            "Requirement already satisfied: nvidia-nccl-cu12==2.21.5 in /usr/local/lib/python3.11/dist-packages (from torch->-r SimCLR/requirements.txt (line 4)) (2.21.5)\n",
            "Requirement already satisfied: nvidia-nvtx-cu12==12.4.127 in /usr/local/lib/python3.11/dist-packages (from torch->-r SimCLR/requirements.txt (line 4)) (12.4.127)\n",
            "Collecting nvidia-nvjitlink-cu12==12.4.127 (from torch->-r SimCLR/requirements.txt (line 4))\n",
            "  Downloading nvidia_nvjitlink_cu12-12.4.127-py3-none-manylinux2014_x86_64.whl.metadata (1.5 kB)\n",
            "Requirement already satisfied: triton==3.2.0 in /usr/local/lib/python3.11/dist-packages (from torch->-r SimCLR/requirements.txt (line 4)) (3.2.0)\n",
            "Requirement already satisfied: sympy==1.13.1 in /usr/local/lib/python3.11/dist-packages (from torch->-r SimCLR/requirements.txt (line 4)) (1.13.1)\n",
            "Requirement already satisfied: mpmath<1.4,>=1.1.0 in /usr/local/lib/python3.11/dist-packages (from sympy==1.13.1->torch->-r SimCLR/requirements.txt (line 4)) (1.3.0)\n",
            "Requirement already satisfied: absl-py>=0.4 in /usr/local/lib/python3.11/dist-packages (from tensorboard->-r SimCLR/requirements.txt (line 6)) (1.4.0)\n",
            "Requirement already satisfied: grpcio>=1.48.2 in /usr/local/lib/python3.11/dist-packages (from tensorboard->-r SimCLR/requirements.txt (line 6)) (1.71.0)\n",
            "Requirement already satisfied: markdown>=2.6.8 in /usr/local/lib/python3.11/dist-packages (from tensorboard->-r SimCLR/requirements.txt (line 6)) (3.7)\n",
            "Requirement already satisfied: protobuf!=4.24.0,>=3.19.6 in /usr/local/lib/python3.11/dist-packages (from tensorboard->-r SimCLR/requirements.txt (line 6)) (5.29.4)\n",
            "Requirement already satisfied: setuptools>=41.0.0 in /usr/local/lib/python3.11/dist-packages (from tensorboard->-r SimCLR/requirements.txt (line 6)) (75.1.0)\n",
            "Requirement already satisfied: six>1.9 in /usr/local/lib/python3.11/dist-packages (from tensorboard->-r SimCLR/requirements.txt (line 6)) (1.17.0)\n",
            "Requirement already satisfied: tensorboard-data-server<0.8.0,>=0.7.0 in /usr/local/lib/python3.11/dist-packages (from tensorboard->-r SimCLR/requirements.txt (line 6)) (0.7.2)\n",
            "Requirement already satisfied: werkzeug>=1.0.1 in /usr/local/lib/python3.11/dist-packages (from tensorboard->-r SimCLR/requirements.txt (line 6)) (3.1.3)\n",
            "Collecting coloredlogs (from onnxruntime->-r SimCLR/requirements.txt (line 8))\n",
            "  Downloading coloredlogs-15.0.1-py2.py3-none-any.whl.metadata (12 kB)\n",
            "Requirement already satisfied: flatbuffers in /usr/local/lib/python3.11/dist-packages (from onnxruntime->-r SimCLR/requirements.txt (line 8)) (25.2.10)\n",
            "Requirement already satisfied: MarkupSafe>=2.1.1 in /usr/local/lib/python3.11/dist-packages (from werkzeug>=1.0.1->tensorboard->-r SimCLR/requirements.txt (line 6)) (3.0.2)\n",
            "Collecting humanfriendly>=9.1 (from coloredlogs->onnxruntime->-r SimCLR/requirements.txt (line 8))\n",
            "  Downloading humanfriendly-10.0-py2.py3-none-any.whl.metadata (9.2 kB)\n",
            "Downloading nvidia_cublas_cu12-12.4.5.8-py3-none-manylinux2014_x86_64.whl (363.4 MB)\n",
            "\u001b[2K   \u001b[90m━━━━━━━━━━━━━━━━━━━━━━━━━━━━━━━━━━━━━━━━\u001b[0m \u001b[32m363.4/363.4 MB\u001b[0m \u001b[31m4.4 MB/s\u001b[0m eta \u001b[36m0:00:00\u001b[0m\n",
            "\u001b[?25hDownloading nvidia_cuda_cupti_cu12-12.4.127-py3-none-manylinux2014_x86_64.whl (13.8 MB)\n",
            "\u001b[2K   \u001b[90m━━━━━━━━━━━━━━━━━━━━━━━━━━━━━━━━━━━━━━━━\u001b[0m \u001b[32m13.8/13.8 MB\u001b[0m \u001b[31m110.4 MB/s\u001b[0m eta \u001b[36m0:00:00\u001b[0m\n",
            "\u001b[?25hDownloading nvidia_cuda_nvrtc_cu12-12.4.127-py3-none-manylinux2014_x86_64.whl (24.6 MB)\n",
            "\u001b[2K   \u001b[90m━━━━━━━━━━━━━━━━━━━━━━━━━━━━━━━━━━━━━━━━\u001b[0m \u001b[32m24.6/24.6 MB\u001b[0m \u001b[31m87.9 MB/s\u001b[0m eta \u001b[36m0:00:00\u001b[0m\n",
            "\u001b[?25hDownloading nvidia_cuda_runtime_cu12-12.4.127-py3-none-manylinux2014_x86_64.whl (883 kB)\n",
            "\u001b[2K   \u001b[90m━━━━━━━━━━━━━━━━━━━━━━━━━━━━━━━━━━━━━━━━\u001b[0m \u001b[32m883.7/883.7 kB\u001b[0m \u001b[31m53.6 MB/s\u001b[0m eta \u001b[36m0:00:00\u001b[0m\n",
            "\u001b[?25hDownloading nvidia_cudnn_cu12-9.1.0.70-py3-none-manylinux2014_x86_64.whl (664.8 MB)\n",
            "\u001b[2K   \u001b[90m━━━━━━━━━━━━━━━━━━━━━━━━━━━━━━━━━━━━━━━━\u001b[0m \u001b[32m664.8/664.8 MB\u001b[0m \u001b[31m2.1 MB/s\u001b[0m eta \u001b[36m0:00:00\u001b[0m\n",
            "\u001b[?25hDownloading nvidia_cufft_cu12-11.2.1.3-py3-none-manylinux2014_x86_64.whl (211.5 MB)\n",
            "\u001b[2K   \u001b[90m━━━━━━━━━━━━━━━━━━━━━━━━━━━━━━━━━━━━━━━━\u001b[0m \u001b[32m211.5/211.5 MB\u001b[0m \u001b[31m5.5 MB/s\u001b[0m eta \u001b[36m0:00:00\u001b[0m\n",
            "\u001b[?25hDownloading nvidia_curand_cu12-10.3.5.147-py3-none-manylinux2014_x86_64.whl (56.3 MB)\n",
            "\u001b[2K   \u001b[90m━━━━━━━━━━━━━━━━━━━━━━━━━━━━━━━━━━━━━━━━\u001b[0m \u001b[32m56.3/56.3 MB\u001b[0m \u001b[31m11.8 MB/s\u001b[0m eta \u001b[36m0:00:00\u001b[0m\n",
            "\u001b[?25hDownloading nvidia_cusolver_cu12-11.6.1.9-py3-none-manylinux2014_x86_64.whl (127.9 MB)\n",
            "\u001b[2K   \u001b[90m━━━━━━━━━━━━━━━━━━━━━━━━━━━━━━━━━━━━━━━━\u001b[0m \u001b[32m127.9/127.9 MB\u001b[0m \u001b[31m7.3 MB/s\u001b[0m eta \u001b[36m0:00:00\u001b[0m\n",
            "\u001b[?25hDownloading nvidia_cusparse_cu12-12.3.1.170-py3-none-manylinux2014_x86_64.whl (207.5 MB)\n",
            "\u001b[2K   \u001b[90m━━━━━━━━━━━━━━━━━━━━━━━━━━━━━━━━━━━━━━━━\u001b[0m \u001b[32m207.5/207.5 MB\u001b[0m \u001b[31m6.2 MB/s\u001b[0m eta \u001b[36m0:00:00\u001b[0m\n",
            "\u001b[?25hDownloading nvidia_nvjitlink_cu12-12.4.127-py3-none-manylinux2014_x86_64.whl (21.1 MB)\n",
            "\u001b[2K   \u001b[90m━━━━━━━━━━━━━━━━━━━━━━━━━━━━━━━━━━━━━━━━\u001b[0m \u001b[32m21.1/21.1 MB\u001b[0m \u001b[31m92.6 MB/s\u001b[0m eta \u001b[36m0:00:00\u001b[0m\n",
            "\u001b[?25hDownloading onnx-1.17.0-cp311-cp311-manylinux_2_17_x86_64.manylinux2014_x86_64.whl (16.0 MB)\n",
            "\u001b[2K   \u001b[90m━━━━━━━━━━━━━━━━━━━━━━━━━━━━━━━━━━━━━━━━\u001b[0m \u001b[32m16.0/16.0 MB\u001b[0m \u001b[31m105.1 MB/s\u001b[0m eta \u001b[36m0:00:00\u001b[0m\n",
            "\u001b[?25hDownloading onnxruntime-1.21.0-cp311-cp311-manylinux_2_27_x86_64.manylinux_2_28_x86_64.whl (16.0 MB)\n",
            "\u001b[2K   \u001b[90m━━━━━━━━━━━━━━━━━━━━━━━━━━━━━━━━━━━━━━━━\u001b[0m \u001b[32m16.0/16.0 MB\u001b[0m \u001b[31m94.7 MB/s\u001b[0m eta \u001b[36m0:00:00\u001b[0m\n",
            "\u001b[?25hDownloading coloredlogs-15.0.1-py2.py3-none-any.whl (46 kB)\n",
            "\u001b[2K   \u001b[90m━━━━━━━━━━━━━━━━━━━━━━━━━━━━━━━━━━━━━━━━\u001b[0m \u001b[32m46.0/46.0 kB\u001b[0m \u001b[31m4.2 MB/s\u001b[0m eta \u001b[36m0:00:00\u001b[0m\n",
            "\u001b[?25hDownloading humanfriendly-10.0-py2.py3-none-any.whl (86 kB)\n",
            "\u001b[2K   \u001b[90m━━━━━━━━━━━━━━━━━━━━━━━━━━━━━━━━━━━━━━━━\u001b[0m \u001b[32m86.8/86.8 kB\u001b[0m \u001b[31m8.4 MB/s\u001b[0m eta \u001b[36m0:00:00\u001b[0m\n",
            "\u001b[?25hInstalling collected packages: onnx, nvidia-nvjitlink-cu12, nvidia-curand-cu12, nvidia-cufft-cu12, nvidia-cuda-runtime-cu12, nvidia-cuda-nvrtc-cu12, nvidia-cuda-cupti-cu12, nvidia-cublas-cu12, humanfriendly, nvidia-cusparse-cu12, nvidia-cudnn-cu12, coloredlogs, onnxruntime, nvidia-cusolver-cu12\n",
            "  Attempting uninstall: nvidia-nvjitlink-cu12\n",
            "    Found existing installation: nvidia-nvjitlink-cu12 12.5.82\n",
            "    Uninstalling nvidia-nvjitlink-cu12-12.5.82:\n",
            "      Successfully uninstalled nvidia-nvjitlink-cu12-12.5.82\n",
            "  Attempting uninstall: nvidia-curand-cu12\n",
            "    Found existing installation: nvidia-curand-cu12 10.3.6.82\n",
            "    Uninstalling nvidia-curand-cu12-10.3.6.82:\n",
            "      Successfully uninstalled nvidia-curand-cu12-10.3.6.82\n",
            "  Attempting uninstall: nvidia-cufft-cu12\n",
            "    Found existing installation: nvidia-cufft-cu12 11.2.3.61\n",
            "    Uninstalling nvidia-cufft-cu12-11.2.3.61:\n",
            "      Successfully uninstalled nvidia-cufft-cu12-11.2.3.61\n",
            "  Attempting uninstall: nvidia-cuda-runtime-cu12\n",
            "    Found existing installation: nvidia-cuda-runtime-cu12 12.5.82\n",
            "    Uninstalling nvidia-cuda-runtime-cu12-12.5.82:\n",
            "      Successfully uninstalled nvidia-cuda-runtime-cu12-12.5.82\n",
            "  Attempting uninstall: nvidia-cuda-nvrtc-cu12\n",
            "    Found existing installation: nvidia-cuda-nvrtc-cu12 12.5.82\n",
            "    Uninstalling nvidia-cuda-nvrtc-cu12-12.5.82:\n",
            "      Successfully uninstalled nvidia-cuda-nvrtc-cu12-12.5.82\n",
            "  Attempting uninstall: nvidia-cuda-cupti-cu12\n",
            "    Found existing installation: nvidia-cuda-cupti-cu12 12.5.82\n",
            "    Uninstalling nvidia-cuda-cupti-cu12-12.5.82:\n",
            "      Successfully uninstalled nvidia-cuda-cupti-cu12-12.5.82\n",
            "  Attempting uninstall: nvidia-cublas-cu12\n",
            "    Found existing installation: nvidia-cublas-cu12 12.5.3.2\n",
            "    Uninstalling nvidia-cublas-cu12-12.5.3.2:\n",
            "      Successfully uninstalled nvidia-cublas-cu12-12.5.3.2\n",
            "  Attempting uninstall: nvidia-cusparse-cu12\n",
            "    Found existing installation: nvidia-cusparse-cu12 12.5.1.3\n",
            "    Uninstalling nvidia-cusparse-cu12-12.5.1.3:\n",
            "      Successfully uninstalled nvidia-cusparse-cu12-12.5.1.3\n",
            "  Attempting uninstall: nvidia-cudnn-cu12\n",
            "    Found existing installation: nvidia-cudnn-cu12 9.3.0.75\n",
            "    Uninstalling nvidia-cudnn-cu12-9.3.0.75:\n",
            "      Successfully uninstalled nvidia-cudnn-cu12-9.3.0.75\n",
            "  Attempting uninstall: nvidia-cusolver-cu12\n",
            "    Found existing installation: nvidia-cusolver-cu12 11.6.3.83\n",
            "    Uninstalling nvidia-cusolver-cu12-11.6.3.83:\n",
            "      Successfully uninstalled nvidia-cusolver-cu12-11.6.3.83\n",
            "Successfully installed coloredlogs-15.0.1 humanfriendly-10.0 nvidia-cublas-cu12-12.4.5.8 nvidia-cuda-cupti-cu12-12.4.127 nvidia-cuda-nvrtc-cu12-12.4.127 nvidia-cuda-runtime-cu12-12.4.127 nvidia-cudnn-cu12-9.1.0.70 nvidia-cufft-cu12-11.2.1.3 nvidia-curand-cu12-10.3.5.147 nvidia-cusolver-cu12-11.6.1.9 nvidia-cusparse-cu12-12.3.1.170 nvidia-nvjitlink-cu12-12.4.127 onnx-1.17.0 onnxruntime-1.21.0\n"
          ]
        }
      ]
    },
    {
      "cell_type": "code",
      "source": [
        "!python SimCLR/train_simclr.py SimCLR/config.yaml"
      ],
      "metadata": {
        "colab": {
          "base_uri": "https://localhost:8080/"
        },
        "id": "c_L26FpL1yAs",
        "outputId": "6a1b509a-8d3a-4ed0-9c2e-03baed93f8a8"
      },
      "execution_count": 24,
      "outputs": [
        {
          "output_type": "stream",
          "name": "stdout",
          "text": [
            "2025-03-29 17:44:05.756586: E external/local_xla/xla/stream_executor/cuda/cuda_fft.cc:477] Unable to register cuFFT factory: Attempting to register factory for plugin cuFFT when one has already been registered\n",
            "WARNING: All log messages before absl::InitializeLog() is called are written to STDERR\n",
            "E0000 00:00:1743270245.777635   13790 cuda_dnn.cc:8310] Unable to register cuDNN factory: Attempting to register factory for plugin cuDNN when one has already been registered\n",
            "E0000 00:00:1743270245.784146   13790 cuda_blas.cc:1418] Unable to register cuBLAS factory: Attempting to register factory for plugin cuBLAS when one has already been registered\n",
            "2025-03-29 17:44:05.805901: I tensorflow/core/platform/cpu_feature_guard.cc:210] This TensorFlow binary is optimized to use available CPU instructions in performance-critical operations.\n",
            "To enable the following instructions: AVX2 FMA, in other operations, rebuild TensorFlow with the appropriate compiler flags.\n",
            "2025-03-29 17:44:10,723 - simclr - INFO - using config: <class 'config.simclr_config.SimCLRConfig'>: {'simclr': SimCLRConfig.SimCLR(train=SimCLRConfig.Train(batch_size=512, num_workers=8, start_epoch=0, restart_log_dir_path=None, epochs=10, data_dir_path='/data', dataset='CIFAR10', save_num_epochs=1, img_size=32, optimizer='Adam', weight_decay=1e-06, temperature=0.1, global_step=0, current_epoch=0), model=SimCLRConfig.Model(resnet='resnet18', normalize=True, projection_dim=64)), 'logistic_regression': SimCLRConfig.LogisticRegression(epochs=10, batch_size=512, learning_rate=0.001, momentum=0.9, img_size=32, model_path=None, epoch_num=None), 'fine_tuning': SimCLRConfig.FineTuning(epochs=10, batch_size=512, learning_rate=0.001, momentum=0.9, img_size=32, save_num_epochs=1, gamma=0.1, step_size=10, model_path=None, epoch_num=None), 'onnx': SimCLRConfig.ONNX(batch_size=512, img_size=32, model_path=None, epoch_num=None), 'base': SimCLRConfig.Base(output_dir_path='output', log_dir_path='output/2025_03_29_17_44_10_simclr_cifar10', log_file_path='output/2025_03_29_17_44_10_simclr_cifar10/log.txt', device=device(type='cuda', index=0), num_gpu=1, logger_name='simclr')}\n",
            "2025-03-29 17:44:11,098 - simclr - INFO - loaded model\n",
            "2025-03-29 17:44:12,118 - simclr - INFO - using train_dataset. length: 50000\n",
            "/usr/local/lib/python3.11/dist-packages/torch/utils/data/dataloader.py:624: UserWarning: This DataLoader will create 8 worker processes in total. Our suggested max number of worker in current system is 2, which is smaller than what this DataLoader is going to create. Please be aware that excessive worker creation might get DataLoader running slow or even freeze, lower the worker number to avoid potential slowness/freeze if necessary.\n",
            "  warnings.warn(\n",
            "2025-03-29 17:44:12,120 - simclr - INFO - created train_loader. length 97\n",
            "2025-03-29 17:44:12,120 - simclr - INFO - created optimizer\n",
            "2025-03-29 17:44:12,131 - simclr - INFO - created criterion\n",
            "2025-03-29 17:44:26,230 - simclr - INFO - step [    1|   97] -> loss: 7.181135654449463\n",
            "2025-03-29 17:45:42,042 - simclr - INFO - epoch [    1|   10] -> loss: 6.510144312357165, lr: 0.000300\n",
            "2025-03-29 17:45:50,441 - simclr - INFO - step [    1|   97] -> loss: 6.206760406494141\n",
            "2025-03-29 17:47:12,200 - simclr - INFO - epoch [    2|   10] -> loss: 6.099267802287623, lr: 0.000300\n",
            "2025-03-29 17:47:20,419 - simclr - INFO - step [    1|   97] -> loss: 5.962490081787109\n",
            "2025-03-29 17:48:43,087 - simclr - INFO - epoch [    3|   10] -> loss: 5.831875004719213, lr: 0.000300\n",
            "2025-03-29 17:48:49,922 - simclr - INFO - step [    1|   97] -> loss: 5.779076576232910\n",
            "2025-03-29 17:50:12,249 - simclr - INFO - epoch [    4|   10] -> loss: 5.614154446985304, lr: 0.000300\n",
            "2025-03-29 17:50:20,485 - simclr - INFO - step [    1|   97] -> loss: 5.475584030151367\n",
            "2025-03-29 17:51:41,762 - simclr - INFO - epoch [    5|   10] -> loss: 5.414924012017004, lr: 0.000300\n",
            "2025-03-29 17:51:49,187 - simclr - INFO - step [    1|   97] -> loss: 5.391263484954834\n",
            "2025-03-29 17:53:10,707 - simclr - INFO - epoch [    6|   10] -> loss: 5.224195372198046, lr: 0.000300\n",
            "2025-03-29 17:53:18,452 - simclr - INFO - step [    1|   97] -> loss: 5.173592090606689\n",
            "2025-03-29 17:54:39,745 - simclr - INFO - epoch [    7|   10] -> loss: 5.111499289876407, lr: 0.000300\n",
            "2025-03-29 17:54:46,710 - simclr - INFO - step [    1|   97] -> loss: 5.007431507110596\n",
            "2025-03-29 17:56:08,198 - simclr - INFO - epoch [    8|   10] -> loss: 4.986645546156106, lr: 0.000300\n",
            "2025-03-29 17:56:15,189 - simclr - INFO - step [    1|   97] -> loss: 4.888653278350830\n",
            "2025-03-29 17:57:36,601 - simclr - INFO - epoch [    9|   10] -> loss: 4.873164167109224, lr: 0.000300\n",
            "2025-03-29 17:57:43,729 - simclr - INFO - step [    1|   97] -> loss: 4.901704311370850\n",
            "2025-03-29 17:59:05,594 - simclr - INFO - epoch [   10|   10] -> loss: 4.749159832590634, lr: 0.000300\n"
          ]
        }
      ]
    },
    {
      "cell_type": "code",
      "source": [
        "!python SimCLR/train_logistic_regression.py SimCLR/config.yaml /content/output/2025_03_29_17_44_10_simclr_cifar10 10"
      ],
      "metadata": {
        "colab": {
          "base_uri": "https://localhost:8080/"
        },
        "id": "EaTIFzoO6KgL",
        "outputId": "763b703f-d3c4-42aa-c787-9c829fd6da5a"
      },
      "execution_count": 33,
      "outputs": [
        {
          "output_type": "stream",
          "name": "stdout",
          "text": [
            "2025-03-29 18:11:03.965769: E external/local_xla/xla/stream_executor/cuda/cuda_fft.cc:477] Unable to register cuFFT factory: Attempting to register factory for plugin cuFFT when one has already been registered\n",
            "WARNING: All log messages before absl::InitializeLog() is called are written to STDERR\n",
            "E0000 00:00:1743271863.987008   21187 cuda_dnn.cc:8310] Unable to register cuDNN factory: Attempting to register factory for plugin cuDNN when one has already been registered\n",
            "E0000 00:00:1743271863.993546   21187 cuda_blas.cc:1418] Unable to register cuBLAS factory: Attempting to register factory for plugin cuBLAS when one has already been registered\n",
            "2025-03-29 18:11:04.014828: I tensorflow/core/platform/cpu_feature_guard.cc:210] This TensorFlow binary is optimized to use available CPU instructions in performance-critical operations.\n",
            "To enable the following instructions: AVX2 FMA, in other operations, rebuild TensorFlow with the appropriate compiler flags.\n",
            "2025-03-29 18:11:09,557 - logreg - INFO - using config: <class 'config.simclr_config.SimCLRConfig'>: {'simclr': SimCLRConfig.SimCLR(train=SimCLRConfig.Train(batch_size=512, num_workers=8, start_epoch=0, restart_log_dir_path='', epochs=10, data_dir_path='/data', dataset='CIFAR10', save_num_epochs=1, img_size=32, optimizer='Adam', weight_decay=1e-06, temperature=0.1, global_step=0, current_epoch=0), model=SimCLRConfig.Model(resnet='resnet18', normalize=True, projection_dim=64)), 'logistic_regression': SimCLRConfig.LogisticRegression(epochs=10, batch_size=512, learning_rate=0.001, momentum=0.9, img_size=32, model_path=None, epoch_num=None), 'fine_tuning': SimCLRConfig.FineTuning(epochs=10, batch_size=512, learning_rate=0.001, momentum=0.9, img_size=32, save_num_epochs=1, gamma=0.1, step_size=10, model_path=None, epoch_num=None), 'onnx': SimCLRConfig.ONNX(batch_size=512, img_size=32, model_path=None, epoch_num=None), 'base': SimCLRConfig.Base(output_dir_path='output', log_dir_path='output/2025_03_29_18_11_09_logreg_cifar10', log_file_path='output/2025_03_29_18_11_09_logreg_cifar10/log.txt', device=device(type='cuda', index=0), num_gpu=1, logger_name='logreg')}\n",
            "2025-03-29 18:11:09,559 - logreg - INFO - using model directory: /content/output/2025_03_29_17_44_10_simclr_cifar10\n",
            "2025-03-29 18:11:09,559 - logreg - INFO - using model_path: /content/output/2025_03_29_17_44_10_simclr_cifar10\n",
            "2025-03-29 18:11:09,559 - logreg - INFO - using epoch_num: 10\n",
            "2025-03-29 18:11:09,559 - logreg - INFO - using model file: /content/output/2025_03_29_17_44_10_simclr_cifar10/checkpoint_10.pth\n",
            "/usr/local/lib/python3.11/dist-packages/torch/utils/data/dataloader.py:624: UserWarning: This DataLoader will create 8 worker processes in total. Our suggested max number of worker in current system is 2, which is smaller than what this DataLoader is going to create. Please be aware that excessive worker creation might get DataLoader running slow or even freeze, lower the worker number to avoid potential slowness/freeze if necessary.\n",
            "  warnings.warn(\n",
            "2025-03-29 18:11:12,405 - logreg - INFO - creating features from pre-trained context model\n",
            "2025-03-29 18:11:15,273 - logreg - INFO - step [  1| 79] -> computing features\n",
            "2025-03-29 18:11:15,864 - logreg - INFO - step [ 11| 79] -> computing features\n",
            "2025-03-29 18:11:16,577 - logreg - INFO - step [ 21| 79] -> computing features\n",
            "2025-03-29 18:11:18,095 - logreg - INFO - step [ 31| 79] -> computing features\n",
            "2025-03-29 18:11:20,354 - logreg - INFO - step [ 41| 79] -> computing features\n",
            "2025-03-29 18:11:22,051 - logreg - INFO - step [ 51| 79] -> computing features\n",
            "2025-03-29 18:11:23,413 - logreg - INFO - step [ 61| 79] -> computing features\n",
            "2025-03-29 18:11:24,865 - logreg - INFO - step [ 71| 79] -> computing features\n",
            "2025-03-29 18:11:25,487 - logreg - INFO - computed train features\n",
            "2025-03-29 18:11:26,319 - logreg - INFO - step [  1| 19] -> computing features\n",
            "2025-03-29 18:11:27,142 - logreg - INFO - step [ 11| 19] -> computing features\n",
            "2025-03-29 18:11:27,577 - logreg - INFO - computed test features\n",
            "2025-03-29 18:11:28,019 - logreg - INFO - epoch [  1|10] -> train loss: 1.950030, accuracy: 0.297320\n",
            "2025-03-29 18:11:28,379 - logreg - INFO - epoch [  2|10] -> train loss: 1.730948, accuracy: 0.372033\n",
            "2025-03-29 18:11:29,049 - logreg - INFO - epoch [  3|10] -> train loss: 1.693615, accuracy: 0.387510\n",
            "2025-03-29 18:11:29,409 - logreg - INFO - epoch [  4|10] -> train loss: 1.672675, accuracy: 0.394902\n",
            "2025-03-29 18:11:29,790 - logreg - INFO - epoch [  5|10] -> train loss: 1.658441, accuracy: 0.401380\n",
            "2025-03-29 18:11:30,159 - logreg - INFO - epoch [  6|10] -> train loss: 1.647782, accuracy: 0.406448\n",
            "2025-03-29 18:11:30,532 - logreg - INFO - epoch [  7|10] -> train loss: 1.639319, accuracy: 0.410898\n",
            "2025-03-29 18:11:31,070 - logreg - INFO - epoch [  8|10] -> train loss: 1.632332, accuracy: 0.414161\n",
            "2025-03-29 18:11:31,595 - logreg - INFO - epoch [  9|10] -> train loss: 1.626399, accuracy: 0.416609\n",
            "2025-03-29 18:11:32,096 - logreg - INFO - epoch [ 10|10] -> train loss: 1.621254, accuracy: 0.419304\n",
            "2025-03-29 18:11:32,098 - logreg - INFO - train dataset performance -> best epoch: 10, loss: 1.6212536126752444, accuracy: 0.41930379746835444\n",
            "2025-03-29 18:11:32,217 - logreg - INFO - test dataset performance -> best epoch: 10, loss: 1.48283556887978, accuracy: 0.45785361842105265\n"
          ]
        }
      ]
    },
    {
      "cell_type": "code",
      "source": [
        "!python SimCLR/convert_to_onnx.py SimCLR/config.yaml /content/output/2025_03_29_17_44_10_simclr_cifar10 10"
      ],
      "metadata": {
        "colab": {
          "base_uri": "https://localhost:8080/"
        },
        "id": "lW4nvRLqEXH2",
        "outputId": "abe93a8f-7592-4f94-e907-1e2b2af4737a"
      },
      "execution_count": 40,
      "outputs": [
        {
          "output_type": "stream",
          "name": "stdout",
          "text": [
            "2025-03-29 18:24:57,235 - onnx - INFO - using config: <class 'config.simclr_config.SimCLRConfig'>: {'simclr': SimCLRConfig.SimCLR(train=SimCLRConfig.Train(batch_size=512, num_workers=8, start_epoch=0, restart_log_dir_path='', epochs=10, data_dir_path='/data', dataset='CIFAR10', save_num_epochs=1, img_size=32, optimizer='Adam', weight_decay=1e-06, temperature=0.1, global_step=0, current_epoch=0), model=SimCLRConfig.Model(resnet='resnet18', normalize=True, projection_dim=64)), 'logistic_regression': SimCLRConfig.LogisticRegression(epochs=10, batch_size=512, learning_rate=0.001, momentum=0.9, img_size=32, model_path=None, epoch_num=None), 'fine_tuning': SimCLRConfig.FineTuning(epochs=10, batch_size=512, learning_rate=0.001, momentum=0.9, img_size=32, save_num_epochs=1, gamma=0.1, step_size=10, model_path=None, epoch_num=None), 'onnx': SimCLRConfig.ONNX(batch_size=512, img_size=32, model_path=None, epoch_num=None), 'base': SimCLRConfig.Base(output_dir_path='output', log_dir_path='output/2025_03_29_18_24_57_onnx_cifar10', log_file_path='output/2025_03_29_18_24_57_onnx_cifar10/log.txt', device=device(type='cuda', index=0), num_gpu=1, logger_name='onnx')}\n",
            "2025-03-29 18:24:57,235 - onnx - INFO - using model directory: /content/output/2025_03_29_17_44_10_simclr_cifar10\n",
            "2025-03-29 18:24:57,236 - onnx - INFO - using model_path: /content/output/2025_03_29_17_44_10_simclr_cifar10\n",
            "2025-03-29 18:24:57,236 - onnx - INFO - using epoch_num: 10\n",
            "2025-03-29 18:24:57,236 - onnx - INFO - using model file: /content/output/2025_03_29_17_44_10_simclr_cifar10/checkpoint_10.pth\n",
            "/usr/local/lib/python3.11/dist-packages/torch/utils/data/dataloader.py:624: UserWarning: This DataLoader will create 8 worker processes in total. Our suggested max number of worker in current system is 2, which is smaller than what this DataLoader is going to create. Please be aware that excessive worker creation might get DataLoader running slow or even freeze, lower the worker number to avoid potential slowness/freeze if necessary.\n",
            "  warnings.warn(\n",
            "2025-03-29 18:24:59,874 - onnx - INFO - Modèle auto-supervisé chargé (avec projection head)\n",
            "2025-03-29 18:25:00,125 - onnx - INFO - State dict chargé dans le modèle auto-supervisé\n",
            "2025-03-29 18:25:00,125 - onnx - INFO - using val_loader with num_images: 50000\n",
            "2025-03-29 18:25:00,125 - onnx - INFO - using test_loader with num_images: 10000\n",
            "2025-03-29 18:25:01,956 - onnx - INFO - step [    1|   19] -> step_corrects: 0, running_corrects: 0\n",
            "2025-03-29 18:25:02,000 - onnx - INFO - step [    2|   19] -> step_corrects: 0, running_corrects: 0\n",
            "2025-03-29 18:25:02,039 - onnx - INFO - step [    3|   19] -> step_corrects: 0, running_corrects: 0\n",
            "2025-03-29 18:25:02,088 - onnx - INFO - step [    4|   19] -> step_corrects: 0, running_corrects: 0\n",
            "2025-03-29 18:25:02,128 - onnx - INFO - step [    5|   19] -> step_corrects: 0, running_corrects: 0\n",
            "2025-03-29 18:25:02,172 - onnx - INFO - step [    6|   19] -> step_corrects: 1, running_corrects: 1\n",
            "2025-03-29 18:25:02,198 - onnx - INFO - step [    7|   19] -> step_corrects: 0, running_corrects: 1\n",
            "2025-03-29 18:25:02,230 - onnx - INFO - step [    8|   19] -> step_corrects: 0, running_corrects: 1\n",
            "2025-03-29 18:25:02,254 - onnx - INFO - step [    9|   19] -> step_corrects: 0, running_corrects: 1\n",
            "2025-03-29 18:25:02,276 - onnx - INFO - step [   10|   19] -> step_corrects: 0, running_corrects: 1\n",
            "2025-03-29 18:25:02,300 - onnx - INFO - step [   11|   19] -> step_corrects: 0, running_corrects: 1\n",
            "2025-03-29 18:25:02,325 - onnx - INFO - step [   12|   19] -> step_corrects: 0, running_corrects: 1\n",
            "2025-03-29 18:25:02,346 - onnx - INFO - step [   13|   19] -> step_corrects: 0, running_corrects: 1\n",
            "2025-03-29 18:25:02,367 - onnx - INFO - step [   14|   19] -> step_corrects: 0, running_corrects: 1\n",
            "2025-03-29 18:25:02,388 - onnx - INFO - step [   15|   19] -> step_corrects: 0, running_corrects: 1\n",
            "2025-03-29 18:25:02,407 - onnx - INFO - step [   16|   19] -> step_corrects: 0, running_corrects: 1\n",
            "2025-03-29 18:25:02,428 - onnx - INFO - step [   17|   19] -> step_corrects: 0, running_corrects: 1\n",
            "2025-03-29 18:25:02,450 - onnx - INFO - step [   18|   19] -> step_corrects: 0, running_corrects: 1\n",
            "2025-03-29 18:25:02,470 - onnx - INFO - step [   19|   19] -> step_corrects: 0, running_corrects: 1\n",
            "2025-03-29 18:25:02,506 - onnx - INFO - step [   20|   19] -> step_corrects: 0, running_corrects: 1\n",
            "2025-03-29 18:25:02,587 - onnx - INFO - val acc: 0.0001\n",
            "2025-03-29 18:25:03,535 - onnx - INFO - step [    1|   19] -> step_corrects: 0, running_corrects: 0\n",
            "2025-03-29 18:25:03,592 - onnx - INFO - step [    2|   19] -> step_corrects: 0, running_corrects: 0\n",
            "2025-03-29 18:25:03,646 - onnx - INFO - step [    3|   19] -> step_corrects: 0, running_corrects: 0\n",
            "2025-03-29 18:25:03,708 - onnx - INFO - step [    4|   19] -> step_corrects: 0, running_corrects: 0\n",
            "2025-03-29 18:25:03,755 - onnx - INFO - step [    5|   19] -> step_corrects: 0, running_corrects: 0\n",
            "2025-03-29 18:25:03,815 - onnx - INFO - step [    6|   19] -> step_corrects: 0, running_corrects: 0\n",
            "2025-03-29 18:25:03,842 - onnx - INFO - step [    7|   19] -> step_corrects: 0, running_corrects: 0\n",
            "2025-03-29 18:25:03,878 - onnx - INFO - step [    8|   19] -> step_corrects: 0, running_corrects: 0\n",
            "2025-03-29 18:25:04,081 - onnx - INFO - step [    9|   19] -> step_corrects: 0, running_corrects: 0\n",
            "2025-03-29 18:25:04,116 - onnx - INFO - step [   10|   19] -> step_corrects: 0, running_corrects: 0\n",
            "2025-03-29 18:25:04,157 - onnx - INFO - step [   11|   19] -> step_corrects: 0, running_corrects: 0\n",
            "2025-03-29 18:25:04,180 - onnx - INFO - step [   12|   19] -> step_corrects: 0, running_corrects: 0\n",
            "2025-03-29 18:25:04,199 - onnx - INFO - step [   13|   19] -> step_corrects: 0, running_corrects: 0\n",
            "2025-03-29 18:25:04,219 - onnx - INFO - step [   14|   19] -> step_corrects: 0, running_corrects: 0\n",
            "2025-03-29 18:25:04,238 - onnx - INFO - step [   15|   19] -> step_corrects: 0, running_corrects: 0\n",
            "2025-03-29 18:25:04,257 - onnx - INFO - step [   16|   19] -> step_corrects: 0, running_corrects: 0\n",
            "2025-03-29 18:25:04,279 - onnx - INFO - step [   17|   19] -> step_corrects: 1, running_corrects: 1\n",
            "2025-03-29 18:25:04,298 - onnx - INFO - step [   18|   19] -> step_corrects: 0, running_corrects: 1\n",
            "2025-03-29 18:25:04,317 - onnx - INFO - step [   19|   19] -> step_corrects: 0, running_corrects: 1\n",
            "2025-03-29 18:25:04,401 - onnx - INFO - test acc: 2e-05\n",
            "2025-03-29 18:25:04,402 - onnx - INFO - torch model performance -> val_acc: 0.0001, test_acc: 2e-05\n",
            "2025-03-29 18:25:04,454 - onnx - INFO - created random onnx model input\n",
            "2025-03-29 18:25:05,845 - onnx - INFO - tested random onnx model input\n",
            "2025-03-29 18:25:08,084 - onnx - INFO - saved onnx model: output/2025_03_29_18_24_57_onnx_cifar10/checkpoint_10.pth\n",
            "2025-03-29 18:25:08,279 - onnx - INFO - loaded onnx_model: output/2025_03_29_18_24_57_onnx_cifar10/checkpoint_10.pth\n",
            "2025-03-29 18:25:08,280 - onnx - INFO - using onnx_model_file_path: output/2025_03_29_18_24_57_onnx_cifar10/checkpoint_10.pth\n",
            "2025-03-29 18:25:08,280 - onnx - INFO - using test_loader with num_images: 10000\n",
            "2025-03-29 18:25:08,280 - onnx - INFO - using val_loader with num_images: 50000\n",
            "2025-03-29 18:25:10,599 - onnx - INFO - step [    1|   19] -> step_corrects: 0, running_corrects: 0\n",
            "2025-03-29 18:25:11,447 - onnx - INFO - step [    2|   19] -> step_corrects: 0, running_corrects: 0\n",
            "2025-03-29 18:25:12,130 - onnx - INFO - step [    3|   19] -> step_corrects: 0, running_corrects: 0\n",
            "2025-03-29 18:25:12,762 - onnx - INFO - step [    4|   19] -> step_corrects: 0, running_corrects: 0\n",
            "2025-03-29 18:25:13,410 - onnx - INFO - step [    5|   19] -> step_corrects: 0, running_corrects: 0\n",
            "2025-03-29 18:25:14,040 - onnx - INFO - step [    6|   19] -> step_corrects: 0, running_corrects: 0\n",
            "2025-03-29 18:25:14,673 - onnx - INFO - step [    7|   19] -> step_corrects: 0, running_corrects: 0\n",
            "2025-03-29 18:25:15,335 - onnx - INFO - step [    8|   19] -> step_corrects: 0, running_corrects: 0\n",
            "2025-03-29 18:25:15,976 - onnx - INFO - step [    9|   19] -> step_corrects: 0, running_corrects: 0\n",
            "2025-03-29 18:25:16,636 - onnx - INFO - step [   10|   19] -> step_corrects: 0, running_corrects: 0\n",
            "2025-03-29 18:25:17,291 - onnx - INFO - step [   11|   19] -> step_corrects: 0, running_corrects: 0\n",
            "2025-03-29 18:25:17,943 - onnx - INFO - step [   12|   19] -> step_corrects: 0, running_corrects: 0\n",
            "2025-03-29 18:25:18,609 - onnx - INFO - step [   13|   19] -> step_corrects: 0, running_corrects: 0\n",
            "2025-03-29 18:25:19,602 - onnx - INFO - step [   14|   19] -> step_corrects: 0, running_corrects: 0\n",
            "2025-03-29 18:25:20,577 - onnx - INFO - step [   15|   19] -> step_corrects: 0, running_corrects: 0\n",
            "2025-03-29 18:25:21,419 - onnx - INFO - step [   16|   19] -> step_corrects: 0, running_corrects: 0\n",
            "2025-03-29 18:25:22,073 - onnx - INFO - step [   17|   19] -> step_corrects: 1, running_corrects: 1\n",
            "2025-03-29 18:25:22,742 - onnx - INFO - step [   18|   19] -> step_corrects: 0, running_corrects: 1\n",
            "2025-03-29 18:25:23,378 - onnx - INFO - step [   19|   19] -> step_corrects: 0, running_corrects: 1\n",
            "2025-03-29 18:25:23,503 - onnx - INFO - test acc: 0.0001\n",
            "2025-03-29 18:25:25,739 - onnx - INFO - step [    1|   20] -> step_corrects: 0, running_corrects: 0\n",
            "2025-03-29 18:25:26,438 - onnx - INFO - step [    2|   20] -> step_corrects: 0, running_corrects: 0\n",
            "2025-03-29 18:25:27,188 - onnx - INFO - step [    3|   20] -> step_corrects: 0, running_corrects: 0\n",
            "2025-03-29 18:25:27,862 - onnx - INFO - step [    4|   20] -> step_corrects: 0, running_corrects: 0\n",
            "2025-03-29 18:25:28,504 - onnx - INFO - step [    5|   20] -> step_corrects: 0, running_corrects: 0\n",
            "2025-03-29 18:25:29,151 - onnx - INFO - step [    6|   20] -> step_corrects: 0, running_corrects: 0\n",
            "2025-03-29 18:25:29,811 - onnx - INFO - step [    7|   20] -> step_corrects: 0, running_corrects: 0\n",
            "2025-03-29 18:25:30,462 - onnx - INFO - step [    8|   20] -> step_corrects: 0, running_corrects: 0\n",
            "2025-03-29 18:25:31,128 - onnx - INFO - step [    9|   20] -> step_corrects: 0, running_corrects: 0\n",
            "2025-03-29 18:25:31,989 - onnx - INFO - step [   10|   20] -> step_corrects: 0, running_corrects: 0\n",
            "2025-03-29 18:25:32,988 - onnx - INFO - step [   11|   20] -> step_corrects: 0, running_corrects: 0\n",
            "2025-03-29 18:25:33,880 - onnx - INFO - step [   12|   20] -> step_corrects: 0, running_corrects: 0\n",
            "2025-03-29 18:25:34,576 - onnx - INFO - step [   13|   20] -> step_corrects: 0, running_corrects: 0\n",
            "2025-03-29 18:25:35,234 - onnx - INFO - step [   14|   20] -> step_corrects: 0, running_corrects: 0\n",
            "2025-03-29 18:25:35,865 - onnx - INFO - step [   15|   20] -> step_corrects: 0, running_corrects: 0\n",
            "2025-03-29 18:25:36,513 - onnx - INFO - step [   16|   20] -> step_corrects: 0, running_corrects: 0\n",
            "2025-03-29 18:25:37,173 - onnx - INFO - step [   17|   20] -> step_corrects: 1, running_corrects: 1\n",
            "2025-03-29 18:25:37,808 - onnx - INFO - step [   18|   20] -> step_corrects: 0, running_corrects: 1\n",
            "2025-03-29 18:25:38,450 - onnx - INFO - step [   19|   20] -> step_corrects: 0, running_corrects: 1\n",
            "2025-03-29 18:25:38,790 - onnx - INFO - step [   20|   20] -> step_corrects: 0, running_corrects: 1\n",
            "2025-03-29 18:25:38,908 - onnx - INFO - val acc: 2e-05\n",
            "2025-03-29 18:25:38,913 - onnx - INFO - onnx model performance -> val_acc: 2e-05, test_acc: 0.0001\n"
          ]
        }
      ]
    },
    {
      "cell_type": "code",
      "source": [
        "!python SimCLR/convert_to_onnx_encoder.py SimCLR/config.yaml /content/output/2025_03_29_17_44_10_simclr_cifar10 10"
      ],
      "metadata": {
        "colab": {
          "base_uri": "https://localhost:8080/"
        },
        "id": "kl98zhHIHW7R",
        "outputId": "bedd4bfe-a12f-448a-f14c-83d68ce0779b"
      },
      "execution_count": 42,
      "outputs": [
        {
          "output_type": "stream",
          "name": "stdout",
          "text": [
            "2025-03-29 18:42:02,171 - onnx - INFO - Using config: <class 'config.simclr_config.SimCLRConfig'>: {'simclr': SimCLRConfig.SimCLR(train=SimCLRConfig.Train(batch_size=512, num_workers=8, start_epoch=0, restart_log_dir_path='', epochs=10, data_dir_path='/data', dataset='CIFAR10', save_num_epochs=1, img_size=32, optimizer='Adam', weight_decay=1e-06, temperature=0.1, global_step=0, current_epoch=0), model=SimCLRConfig.Model(resnet='resnet18', normalize=True, projection_dim=64)), 'logistic_regression': SimCLRConfig.LogisticRegression(epochs=10, batch_size=512, learning_rate=0.001, momentum=0.9, img_size=32, model_path=None, epoch_num=None), 'fine_tuning': SimCLRConfig.FineTuning(epochs=10, batch_size=512, learning_rate=0.001, momentum=0.9, img_size=32, save_num_epochs=1, gamma=0.1, step_size=10, model_path=None, epoch_num=None), 'onnx': SimCLRConfig.ONNX(batch_size=512, img_size=32, model_path=None, epoch_num=None), 'base': SimCLRConfig.Base(output_dir_path='output', log_dir_path='output/2025_03_29_18_42_02_onnx_cifar10', log_file_path='output/2025_03_29_18_42_02_onnx_cifar10/log.txt', device=device(type='cuda', index=0), num_gpu=1, logger_name='onnx')}\n",
            "2025-03-29 18:42:02,172 - onnx - INFO - Using model directory: /content/output/2025_03_29_17_44_10_simclr_cifar10\n",
            "2025-03-29 18:42:02,172 - onnx - INFO - Using model_path: /content/output/2025_03_29_17_44_10_simclr_cifar10\n",
            "2025-03-29 18:42:02,172 - onnx - INFO - Using epoch_num: 10\n",
            "2025-03-29 18:42:02,172 - onnx - INFO - Using model file: /content/output/2025_03_29_17_44_10_simclr_cifar10/checkpoint_10.pth\n",
            "2025-03-29 18:42:04,855 - onnx - INFO - Loaded auto-supervised model (with projection head).\n",
            "2025-03-29 18:42:05,111 - onnx - INFO - State dict loaded into auto-supervised model.\n",
            "2025-03-29 18:42:05,111 - onnx - INFO - Projection head removed: model now outputs embeddings.\n",
            "2025-03-29 18:42:05,121 - onnx - INFO - Created random input for ONNX export.\n",
            "2025-03-29 18:42:06,218 - onnx - INFO - Tested model output on random input.\n",
            "2025-03-29 18:42:07,627 - onnx - INFO - Saved ONNX model: output/2025_03_29_18_42_02_onnx_cifar10/checkpoint_10.onnx\n",
            "2025-03-29 18:42:07,785 - onnx - INFO - Loaded ONNX model: output/2025_03_29_18_42_02_onnx_cifar10/checkpoint_10.onnx\n"
          ]
        }
      ]
    },
    {
      "cell_type": "code",
      "source": [
        "!python SimCLR/test_onnx_model.py /content/output/2025_03_29_18_42_02_onnx_cifar10/checkpoint_10.onnx --num_images 10\n"
      ],
      "metadata": {
        "colab": {
          "base_uri": "https://localhost:8080/"
        },
        "id": "WJgZcaWRNcAJ",
        "outputId": "5e42ccc1-f1b7-4292-f8e1-46af239c4fd2"
      },
      "execution_count": 47,
      "outputs": [
        {
          "output_type": "stream",
          "name": "stdout",
          "text": [
            "100% 170M/170M [00:11<00:00, 14.4MB/s]\n",
            "Embeddings shape: (10, 512)\n",
            "Image 0 - label: 3 - embedding norm: 48.7948\n",
            "Image 1 - label: 8 - embedding norm: 63.9901\n",
            "Image 2 - label: 8 - embedding norm: 49.5624\n",
            "Image 3 - label: 0 - embedding norm: 57.5719\n",
            "Image 4 - label: 6 - embedding norm: 50.1173\n",
            "Image 5 - label: 6 - embedding norm: 54.1812\n",
            "Image 6 - label: 1 - embedding norm: 63.0649\n",
            "Image 7 - label: 6 - embedding norm: 49.0486\n",
            "Image 8 - label: 3 - embedding norm: 39.7352\n",
            "Image 9 - label: 1 - embedding norm: 61.2007\n",
            "Cosine similarity entre image 0 et 1: 0.5294\n"
          ]
        }
      ]
    },
    {
      "cell_type": "code",
      "source": [
        "!python SimCLR/convert_onnx_to_hef.py --ckpt /content/output/2025_03_29_18_42_02_onnx_cifar10/checkpoint_10.onnx --calib_path /content/calib_images --classes 1 --performance --output custom_encoder.hef"
      ],
      "metadata": {
        "colab": {
          "base_uri": "https://localhost:8080/"
        },
        "id": "63ghiTpvPSGj",
        "outputId": "edfbaab3-df0f-4b6b-e9a6-06b7747c6ae7"
      },
      "execution_count": 49,
      "outputs": [
        {
          "output_type": "stream",
          "name": "stdout",
          "text": [
            "Commande lancée : hailomz compile custom_encoder --ckpt /content/output/2025_03_29_18_42_02_onnx_cifar10/checkpoint_10.onnx --hw-arch hailo8l --classes 1 --performance\n",
            "Traceback (most recent call last):\n",
            "  File \"/content/SimCLR/convert_onnx_to_hef.py\", line 37, in <module>\n",
            "    main()\n",
            "  File \"/content/SimCLR/convert_onnx_to_hef.py\", line 29, in main\n",
            "    subprocess.run(cmd, check=True)\n",
            "  File \"/usr/lib/python3.11/subprocess.py\", line 548, in run\n",
            "    with Popen(*popenargs, **kwargs) as process:\n",
            "         ^^^^^^^^^^^^^^^^^^^^^^^^^^^\n",
            "  File \"/usr/lib/python3.11/subprocess.py\", line 1026, in __init__\n",
            "    self._execute_child(args, executable, preexec_fn, close_fds,\n",
            "  File \"/usr/lib/python3.11/subprocess.py\", line 1955, in _execute_child\n",
            "    raise child_exception_type(errno_num, err_msg, err_filename)\n",
            "FileNotFoundError: [Errno 2] No such file or directory: 'hailomz'\n"
          ]
        }
      ]
    },
    {
      "cell_type": "markdown",
      "source": [
        "# Hailo Data Flow Compiler,  "
      ],
      "metadata": {
        "id": "EUVoAD-HTGfe"
      }
    },
    {
      "cell_type": "markdown",
      "source": [
        "Switch to python3.10 to install Hailo Data Flow Compiler (only available on python 3.10)"
      ],
      "metadata": {
        "id": "r33Mq_dXTNai"
      }
    },
    {
      "cell_type": "code",
      "source": [
        "!apt install python3.10-venv"
      ],
      "metadata": {
        "colab": {
          "base_uri": "https://localhost:8080/"
        },
        "id": "_8loNdbWTLbW",
        "outputId": "cb57a066-7248-4c7e-d70c-2ef8f958fbe7"
      },
      "execution_count": 53,
      "outputs": [
        {
          "output_type": "stream",
          "name": "stdout",
          "text": [
            "Reading package lists... Done\n",
            "Building dependency tree... Done\n",
            "Reading state information... Done\n",
            "The following additional packages will be installed:\n",
            "  python3-pip-whl python3-setuptools-whl\n",
            "The following NEW packages will be installed:\n",
            "  python3-pip-whl python3-setuptools-whl python3.10-venv\n",
            "0 upgraded, 3 newly installed, 0 to remove and 29 not upgraded.\n",
            "Need to get 2,474 kB of archives.\n",
            "After this operation, 2,885 kB of additional disk space will be used.\n",
            "Get:1 http://archive.ubuntu.com/ubuntu jammy-updates/universe amd64 python3-pip-whl all 22.0.2+dfsg-1ubuntu0.5 [1,680 kB]\n",
            "Get:2 http://archive.ubuntu.com/ubuntu jammy-updates/universe amd64 python3-setuptools-whl all 59.6.0-1.2ubuntu0.22.04.2 [788 kB]\n",
            "Get:3 http://archive.ubuntu.com/ubuntu jammy-updates/universe amd64 python3.10-venv amd64 3.10.12-1~22.04.9 [5,722 B]\n",
            "Fetched 2,474 kB in 1s (3,590 kB/s)\n",
            "Selecting previously unselected package python3-pip-whl.\n",
            "(Reading database ... 126209 files and directories currently installed.)\n",
            "Preparing to unpack .../python3-pip-whl_22.0.2+dfsg-1ubuntu0.5_all.deb ...\n",
            "Unpacking python3-pip-whl (22.0.2+dfsg-1ubuntu0.5) ...\n",
            "Selecting previously unselected package python3-setuptools-whl.\n",
            "Preparing to unpack .../python3-setuptools-whl_59.6.0-1.2ubuntu0.22.04.2_all.deb ...\n",
            "Unpacking python3-setuptools-whl (59.6.0-1.2ubuntu0.22.04.2) ...\n",
            "Selecting previously unselected package python3.10-venv.\n",
            "Preparing to unpack .../python3.10-venv_3.10.12-1~22.04.9_amd64.deb ...\n",
            "Unpacking python3.10-venv (3.10.12-1~22.04.9) ...\n",
            "Setting up python3-setuptools-whl (59.6.0-1.2ubuntu0.22.04.2) ...\n",
            "Setting up python3-pip-whl (22.0.2+dfsg-1ubuntu0.5) ...\n",
            "Setting up python3.10-venv (3.10.12-1~22.04.9) ...\n"
          ]
        }
      ]
    },
    {
      "cell_type": "code",
      "source": [
        "!python3.10 -m venv hailo_env"
      ],
      "metadata": {
        "id": "cA3wC4_DRspe"
      },
      "execution_count": 54,
      "outputs": []
    },
    {
      "cell_type": "code",
      "source": [
        "!!python3.10 -m venv hailo_env & source hailo_env/bin/activate & python --version\n"
      ],
      "metadata": {
        "colab": {
          "base_uri": "https://localhost:8080/"
        },
        "id": "nHMYNEnqSi5A",
        "outputId": "56312417-0802-44ce-e1a2-415930abb0ef"
      },
      "execution_count": 59,
      "outputs": [
        {
          "output_type": "execute_result",
          "data": {
            "text/plain": [
              "['Python 3.11.11']"
            ]
          },
          "metadata": {},
          "execution_count": 59
        }
      ]
    },
    {
      "cell_type": "code",
      "source": [
        "!python --version\n"
      ],
      "metadata": {
        "colab": {
          "base_uri": "https://localhost:8080/"
        },
        "id": "5lO-UUjkTW7I",
        "outputId": "1cbb89b3-df25-4b7a-d797-b5d26730423c"
      },
      "execution_count": 56,
      "outputs": [
        {
          "output_type": "stream",
          "name": "stdout",
          "text": [
            "Python 3.11.11\n"
          ]
        }
      ]
    },
    {
      "cell_type": "code",
      "source": [],
      "metadata": {
        "id": "OtKcRGC7TYTi"
      },
      "execution_count": null,
      "outputs": []
    }
  ]
}